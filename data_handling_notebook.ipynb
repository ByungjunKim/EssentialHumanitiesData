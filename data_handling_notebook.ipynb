{
  "cells": [
    {
      "cell_type": "markdown",
      "metadata": {
        "id": "view-in-github",
        "colab_type": "text"
      },
      "source": [
        "<a href=\"https://colab.research.google.com/github/ByungjunKim/EssentialHumanitiesData/blob/main/data_handling_notebook.ipynb\" target=\"_parent\"><img src=\"https://colab.research.google.com/assets/colab-badge.svg\" alt=\"Open In Colab\"/></a>"
      ]
    },
    {
      "cell_type": "markdown",
      "metadata": {
        "id": "z-2I8cAJmWiH"
      },
      "source": [
        "# 인문 데이터 기초: 파일 다루기\n",
        "\n",
        "이 노트북은 인문학 연구에서 자주 사용되는 다양한 형식의 파일을 다루는 기본적인 방법을 설명합니다.\n",
        "\n",
        "## 목차\n",
        "1. CSV/TSV 파일 다루기\n",
        "2. 텍스트 파일 다루기\n",
        "3. JSON 파일 다루기\n",
        "4. XML 파일 다루기\n",
        "5. 데이터 분석 및 저장"
      ]
    },
    {
      "cell_type": "markdown",
      "metadata": {
        "id": "dcQEYsphmWiJ"
      },
      "source": [
        "## 필요한 라이브러리 불러오기와 경로 설정"
      ]
    },
    {
      "cell_type": "code",
      "execution_count": null,
      "metadata": {
        "id": "jz5uT3hFmWiK"
      },
      "outputs": [],
      "source": [
        "import pandas as pd\n",
        "import json\n",
        "import xml.etree.ElementTree as ET\n",
        "import matplotlib.pyplot as plt\n",
        "import os\n",
        "\n",
        "# 데이터 폴더 경로 설정\n",
        "DATA_DIR = './EssentialHumanitiesData/data'"
      ]
    },
    {
      "cell_type": "code",
      "source": [
        "!git clone https://github.com/ByungjunKim/EssentialHumanitiesData.git"
      ],
      "metadata": {
        "id": "tC53n4bsmbgq"
      },
      "execution_count": null,
      "outputs": []
    },
    {
      "cell_type": "markdown",
      "metadata": {
        "id": "YMWEeqeJmWiL"
      },
      "source": [
        "## 1. CSV/TSV 파일 다루기\n",
        "\n",
        "### 1.1 CSV 파일 읽기"
      ]
    },
    {
      "cell_type": "code",
      "execution_count": null,
      "metadata": {
        "id": "yBPbiIoCmWiL"
      },
      "outputs": [],
      "source": [
        "# CSV 파일 읽기 (등장인물 정보)\n",
        "csv_path = os.path.join(DATA_DIR, 'characters.csv')\n",
        "df = pd.read_csv(csv_path)\n",
        "print(\"CSV 파일 내용 (등장인물):\")\n",
        "df.head()"
      ]
    },
    {
      "cell_type": "code",
      "execution_count": null,
      "metadata": {
        "id": "9iOPoguXmWiM"
      },
      "outputs": [],
      "source": [
        "# TSV 파일 읽기 (주요 사건)\n",
        "tsv_path = os.path.join(DATA_DIR, 'events.tsv')\n",
        "df_tsv = pd.read_csv(tsv_path, sep='\\t')\n",
        "print(\"TSV 파일 내용 (주요 사건):\")\n",
        "df_tsv.head()"
      ]
    },
    {
      "cell_type": "markdown",
      "metadata": {
        "id": "I-V1s6jUmWiM"
      },
      "source": [
        "### 1.2 특정 데이터 선택하기"
      ]
    },
    {
      "cell_type": "code",
      "execution_count": null,
      "metadata": {
        "id": "yCwC7v0nmWiN"
      },
      "outputs": [],
      "source": [
        "# 특정 열 선택\n",
        "print(\"등장인물의 이름과 신분:\")\n",
        "print(df[['이름', '신분']])\n",
        "\n",
        "# 조건으로 선택\n",
        "print(\"\\n주요 인물 정보:\")\n",
        "print(df[df['이름'].isin(['복녀', '김 주사'])])"
      ]
    },
    {
      "cell_type": "markdown",
      "metadata": {
        "id": "PKM_mRgmmWiN"
      },
      "source": [
        "## 2. 텍스트 파일 다루기"
      ]
    },
    {
      "cell_type": "code",
      "execution_count": null,
      "metadata": {
        "id": "I7aCOOx3mWiN"
      },
      "outputs": [],
      "source": [
        "# 텍스트 파일 읽기\n",
        "txt_path = os.path.join(DATA_DIR, 'novel.txt')\n",
        "with open(txt_path, 'r', encoding='utf-8') as file:\n",
        "    text = file.read()\n",
        "print(\"텍스트 파일 미리보기 (처음 200자):\")\n",
        "print(text[:200])"
      ]
    },
    {
      "cell_type": "code",
      "execution_count": null,
      "metadata": {
        "id": "kwgB_kphmWiO"
      },
      "outputs": [],
      "source": [
        "# 텍스트 파일의 6번째 줄부터 본문 읽기\n",
        "txt_path = os.path.join(DATA_DIR, 'novel.txt')\n",
        "with open(txt_path, 'r', encoding='utf-8') as file:\n",
        "    lines = file.readlines() ## line별로 읽기\n",
        "    text_body = ''.join(lines[5:]) ## 6번째 줄부터 본문 읽기\n",
        "\n",
        "print(\"텍스트 파일 본문 미리보기 (처음 200자):\")\n",
        "print(text_body[:200])"
      ]
    },
    {
      "cell_type": "code",
      "execution_count": null,
      "metadata": {
        "id": "zIscbpZ6mWiO"
      },
      "outputs": [],
      "source": [
        "# 텍스트 파일의 6번째 줄부터 본문 읽기\n",
        "txt_path = os.path.join(DATA_DIR, 'novel.txt')\n",
        "with open(txt_path, 'r', encoding='utf-8') as file:\n",
        "    lines = file.readlines()  # line별로 읽기\n",
        "    text_body = ''.join(lines[5:])  # 6번째 줄부터 본문 읽기\n",
        "\n",
        "# 문단별로 구분\n",
        "paragraphs = text_body.split('\\n\\n')\n",
        "\n",
        "# 데이터프레임으로 만들기\n",
        "df_paragraphs = pd.DataFrame(paragraphs, columns=['문단'])\n",
        "# 문단 index 컬럼 추가\n",
        "df_paragraphs['index'] = range(1, len(df_paragraphs) + 1)\n",
        "# 문단 index 컬럼을 왼쪽에 추가\n",
        "df_paragraphs = df_paragraphs[['index', '문단']]\n",
        "print(\"\\n문단별 데이터프레임 미리보기:\")\n",
        "print(df_paragraphs.head())"
      ]
    },
    {
      "cell_type": "markdown",
      "metadata": {
        "id": "yseK8tggmWiO"
      },
      "source": [
        "## 3. JSON 파일 다루기"
      ]
    },
    {
      "cell_type": "code",
      "execution_count": null,
      "metadata": {
        "id": "Vvj6TP5SmWiO"
      },
      "outputs": [],
      "source": [
        "# JSON 파일 읽기\n",
        "json_path = os.path.join(DATA_DIR, 'gamja.json')\n",
        "with open(json_path, 'r', encoding='utf-8') as file:\n",
        "    data = json.load(file)\n",
        "\n",
        "# 기본 정보 출력\n",
        "print(\"작품 정보:\")\n",
        "print(f\"제목: {data['작품']['제목']}\")\n",
        "print(f\"저자: {data['작품']['저자']}\")\n",
        "print(f\"출판년도: {data['작품']['출판년도']}\")\n",
        "\n",
        "# JSON을 DataFrame으로 변환\n",
        "characters_data = data['작품']['주요_등장인물']\n",
        "df_characters = pd.DataFrame(characters_data)\n",
        "print(\"\\n등장인물 정보:\")\n",
        "print(df_characters[['이름', '신분', '나이']])"
      ]
    },
    {
      "cell_type": "markdown",
      "metadata": {
        "id": "ZJP9bL2pmWiP"
      },
      "source": [
        "## 4. XML(TEI) 파일 다루기"
      ]
    },
    {
      "cell_type": "code",
      "execution_count": null,
      "metadata": {
        "id": "bq1K2mu0mWiP"
      },
      "outputs": [],
      "source": [
        "# XML 파일 읽기\n",
        "xml_path = os.path.join(DATA_DIR, 'gamja.xml')\n",
        "tree = ET.parse(xml_path)\n",
        "root = tree.getroot()\n",
        "\n",
        "# 기본 정보 추출\n",
        "ns = {'tei': 'http://www.tei-c.org/ns/1.0'}\n",
        "title = root.find('.//tei:title', ns).text\n",
        "author = root.find('.//tei:author', ns).text\n",
        "print(f\"제목: {title}\")\n",
        "print(f\"작가: {author}\")\n",
        "\n",
        "# 등장인물 정보 추출\n",
        "characters = []\n",
        "for person in root.findall('.//tei:person', ns):\n",
        "    character = {\n",
        "        '이름': person.find('tei:persName', ns).text,\n",
        "        '특성': [trait.text for trait in person.findall('tei:trait', ns)],\n",
        "        '거주지': person.find('tei:residence', ns).text\n",
        "    }\n",
        "    characters.append(character)\n",
        "\n",
        "df_xml_characters = pd.DataFrame(characters)\n",
        "print(\"\\n등장인물 정보 (XML):\")\n",
        "print(df_xml_characters)"
      ]
    },
    {
      "cell_type": "markdown",
      "metadata": {
        "id": "vZM_Rn1imWiP"
      },
      "source": [
        "## 5. 데이터 분석 및 저장"
      ]
    },
    {
      "cell_type": "code",
      "execution_count": null,
      "metadata": {
        "id": "rHS24xCVmWiP"
      },
      "outputs": [],
      "source": [
        "# 처리된 데이터를 저장할 폴더 생성\n",
        "processed_dir = os.path.join(DATA_DIR, 'processed')\n",
        "if not os.path.exists(processed_dir):\n",
        "    os.makedirs(processed_dir)\n",
        "\n",
        "# Excel 파일로 저장\n",
        "output_path = os.path.join(processed_dir, '감자_분석.xlsx')\n",
        "with pd.ExcelWriter(output_path) as writer:\n",
        "    df_characters.to_excel(writer, sheet_name='등장인물_JSON', index=False)\n",
        "    df_xml_characters.to_excel(writer, sheet_name='등장인물_XML', index=False)\n",
        "print(f\"데이터가 '{output_path}' 파일로 저장되었습니다.\")"
      ]
    }
  ],
  "metadata": {
    "kernelspec": {
      "display_name": "python311",
      "language": "python",
      "name": "python3"
    },
    "language_info": {
      "codemirror_mode": {
        "name": "ipython",
        "version": 3
      },
      "file_extension": ".py",
      "mimetype": "text/x-python",
      "name": "python",
      "nbconvert_exporter": "python",
      "pygments_lexer": "ipython3",
      "version": "3.11.10"
    },
    "colab": {
      "provenance": [],
      "include_colab_link": true
    }
  },
  "nbformat": 4,
  "nbformat_minor": 0
}