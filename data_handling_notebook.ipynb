{
 "cells": [
  {
   "cell_type": "markdown",
   "id": "1f2f2f5b-5829-4d0c-8f54-2d6b2c6c31d1",
   "metadata": {},
   "source": [
    "# 프랑켄슈타인 데이터 포맷 분석 예제\n",
    "\n",
    "이 노트북은 프랑켄슈타인 디지털 에디션의 다양한 데이터 포맷(CSV, JSON, XML/TEI)을 Python에서 불러와 분석 및 시각화하는 예제를 보여준다.\n",
    "\n",
    "각 파일에는 프랑켄슈타인 소설의 판본 비교 및 등장 캐릭터 정보, 인물 및 주석 정보 등이 저장되어 있으며, 이를 바탕으로 데이터를 분석하는 방법을 학습할 수 있다."
   ]
  },
  {
   "cell_type": "markdown",
   "id": "cbfe91c2-d8b9-4b70-98a3-4a536f1522de",
   "metadata": {},
   "source": [
    "## 1. CSV 파일 분석: 등장 캐릭터 정보\n",
    "\n",
    "CSV 파일 (`frankenstein_characters.csv`)에는 프랑켄슈타인 소설의 등장 캐릭터 정보가 저장되어 있다. 이 섹션에서는 Pandas를 이용해 CSV 파일을 불러오고, 각 캐릭터의 역할 분포를 분석하여 막대그래프로 시각화한다."
   ]
  },
  {
   "cell_type": "code",
   "execution_count": null,
   "id": "16c59a0f-362e-4a42-860a-fb6ac68cf9fa",
   "metadata": {},
   "outputs": [],
   "source": [
    "import pandas as pd\n",
    "import matplotlib.pyplot as plt\n",
    "\n",
    "# CSV 파일 경로 (파일은 data 디렉토리에 있다고 가정)\n",
    "csv_file = './data/frankenstein_characters.csv'\n",
    "\n",
    "# CSV 파일 불러오기\n",
    "char_data = pd.read_csv(csv_file)\n",
    "print(\"CSV 데이터 미리보기:\")\n",
    "print(char_data.head())\n",
    "\n",
    "# 역할별 등장 횟수 집계\n",
    "role_counts = char_data['역할'].value_counts()\n",
    "print(\"\\n역할 분포:\")\n",
    "print(role_counts)\n",
    "\n",
    "# 역할 분포 시각화\n",
    "plt.figure(figsize=(6,4))\n",
    "role_counts.plot(kind='bar', color='coral')\n",
    "plt.title('프랑켄슈타인 등장 캐릭터 역할 분포')\n",
    "plt.xlabel('역할')\n",
    "plt.ylabel('캐릭터 수')\n",
    "plt.xticks(rotation=45)\n",
    "plt.tight_layout()\n",
    "plt.show()"
   ]
  },
  {
   "cell_type": "markdown",
   "id": "ebf89d9d-0b3c-4e6d-8a96-f8c04a7fef21",
   "metadata": {},
   "source": [
    "## 2. JSON 파일 분석: 판본 및 인물 주석 정보\n",
    "\n",
    "JSON 파일 (`frankenstein_sentence.json`)에는 프랑켄슈타인 소설의 문장 변이 정보와 함께 인물 및 주석 정보가 저장되어 있다. 아래 예제에서는 JSON 파일을 불러와 판본별 문장, 변화 유형, 주석 및 인물 정보를 출력한다."
   ]
  },
  {
   "cell_type": "code",
   "execution_count": null,
   "id": "b38e5a57-d98b-40d5-921f-fad6c9e38d03",
   "metadata": {},
   "outputs": [],
   "source": [
    "import json\n",
    "\n",
    "# JSON 파일 경로 (파일은 data 디렉토리에 있다고 가정)\n",
    "json_file = './data/frankenstein_sentence.json'\n",
    "\n",
    "# JSON 파일 불러오기\n",
    "with open(json_file, 'r', encoding='utf-8') as f:\n",
    "    json_data = json.load(f)\n",
    "\n",
    "print(\"JSON 데이터:\")\n",
    "print(json.dumps(json_data, indent=2, ensure_ascii=False))\n",
    "\n",
    "# 문장 및 인물 정보 출력\n",
    "sentence_id = json_data.get(\"문장ID\")\n",
    "print(f\"\\n문장 ID: {sentence_id}\")\n",
    "\n",
    "print(\"판본별 문장 정보:\")\n",
    "for key, value in json_data.get(\"텍스트\", {}).items():\n",
    "    print(f\"{key}: {value}\")\n",
    "\n",
    "print(\"\\n변화 유형:\", json_data.get(\"변화유형\"))\n",
    "print(\"주석:\", json_data.get(\"주석\"))\n",
    "\n",
    "person = json_data.get(\"인물정보\", {})\n",
    "print(\"\\n인물 정보:\")\n",
    "print(f\"- 인물명: {person.get('인물명')}\")\n",
    "print(f\"- 역할: {person.get('역할')}\")\n",
    "print(f\"- 설명: {person.get('설명')}\")"
   ]
  },
  {
   "cell_type": "markdown",
   "id": "65b4a3e1-4a5c-4ec9-ae04-44a6cf04d2ab",
   "metadata": {},
   "source": [
    "## 3. XML/TEI 파일 분석: 판본 비교 및 캐릭터 정보\n",
    "\n",
    "XML/TEI 파일 (`frankenstein_tei.xml`)에는 프랑켄슈타인 소설의 판본 비교 정보와 인물(캐릭터) 정보가 TEI 마크업 형식으로 저장되어 있다. 아래 예제에서는 TEI 파일을 파싱하여 문서 제목, 판본 비교 정보( `<app>`와 `<rdg>` 요소) 및 인물 정보를 추출한다."
   ]
  },
  {
   "cell_type": "code",
   "execution_count": null,
   "id": "fae1e8f7-4b6e-4e12-9803-bfca02c1f45f",
   "metadata": {},
   "outputs": [],
   "source": [
    "import xml.etree.ElementTree as ET\n",
    "\n",
    "# XML 파일 경로 (파일은 data 디렉토리에 있다고 가정)\n",
    "xml_file = './data/frankenstein_tei.xml'\n",
    "tree = ET.parse(xml_file)\n",
    "root = tree.getroot()\n",
    "\n",
    "# TEI 네임스페이스 설정\n",
    "ns = {'tei': 'http://www.tei-c.org/ns/1.0'}\n",
    "\n",
    "# 제목 추출\n",
    "title = root.find('.//tei:title', ns)\n",
    "print(\"XML/TEI 데이터 - 문서 제목:\")\n",
    "if title is not None:\n",
    "    print(title.text)\n",
    "else:\n",
    "    print(\"제목 정보를 찾을 수 없음.\")\n",
    "\n",
    "# TEI 내의 <app> 요소와 그 안의 <rdg> 요소 파싱 (판본 비교)\n",
    "print(\"\\nTEI 판본 비교 예시:\")\n",
    "for app in root.findall('.//tei:app', ns):\n",
    "    print(\"---- App Element ----\")\n",
    "    for rdg in app.findall('tei:rdg', ns):\n",
    "        wit = rdg.attrib.get('wit', 'N/A')\n",
    "        text = rdg.text\n",
    "        print(f\"Witness ({wit}): {text}\")\n",
    "\n",
    "# 인물 정보 파싱 (예: <person> 태그)\n",
    "print(\"\\nTEI 인물 정보 예시:\")\n",
    "for person in root.findall('.//tei:person', ns):\n",
    "    persName = person.find('tei:persName', ns)\n",
    "    role = person.find('tei:role', ns)\n",
    "    desc = person.find('tei:desc', ns)\n",
    "    print(f\"인물: {persName.text if persName is not None else 'N/A'}\")\n",
    "    print(f\"  역할: {role.text if role is not None else 'N/A'}\")\n",
    "    print(f\"  설명: {desc.text if desc is not None else 'N/A'}\")\n",
    "    note = person.find('tei:note', ns)\n",
    "    if note is not None:\n",
    "        print(f\"  주석: {note.text.strip()}\")\n",
    "    print()"
   ]
  },
  {
   "cell_type": "markdown",
   "id": "d7bda1ac-43af-4c2d-9f5c-967d5c8d4a9b",
   "metadata": {},
   "source": [
    "이처럼 CSV, JSON, XML/TEI 파일 각각에 저장된 프랑켄슈타인 관련 데이터를 Python을 통해 불러와 분석할 수 있으며, 시각화를 통해 데이터의 특징을 쉽게 파악할 수 있다."
   ]
  }
 ],
 "metadata": {
  "kernelspec": {
   "display_name": "Python 3",
   "language": "python",
   "name": "python3"
  },
  "language_info": {
   "name": "python",
   "version": "3.x"
  }
 },
 "nbformat": 4,
 "nbformat_minor": 5
}
