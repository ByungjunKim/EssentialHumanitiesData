{
 "cells": [
  {
   "cell_type": "markdown",
   "metadata": {},
   "source": [
    "# 인문 데이터 기초: 파일 다루기\n",
    "\n",
    "이 노트북은 인문학 연구에서 자주 사용되는 다양한 형식의 파일을 다루는 기본적인 방법을 설명합니다.\n",
    "\n",
    "## 목차\n",
    "1. CSV/TSV 파일 다루기\n",
    "2. 텍스트 파일 다루기\n",
    "3. JSON 파일 다루기\n",
    "4. XML 파일 다루기\n",
    "5. 데이터 분석 및 저장"
   ]
  },
  {
   "cell_type": "markdown",
   "metadata": {},
   "source": [
    "## 필요한 라이브러리 불러오기와 경로 설정"
   ]
  },
  {
   "cell_type": "code",
   "execution_count": 11,
   "metadata": {},
   "outputs": [],
   "source": [
    "import pandas as pd\n",
    "import json\n",
    "import xml.etree.ElementTree as ET\n",
    "import matplotlib.pyplot as plt\n",
    "import os\n",
    "\n",
    "# 한글 폰트 설정\n",
    "plt.rc('font', family='Malgun Gothic')\n",
    "\n",
    "# 데이터 폴더 경로 설정\n",
    "DATA_DIR = 'data'"
   ]
  },
  {
   "cell_type": "markdown",
   "metadata": {},
   "source": [
    "## 1. CSV/TSV 파일 다루기\n",
    "\n",
    "### 1.1 CSV 파일 읽기"
   ]
  },
  {
   "cell_type": "code",
   "execution_count": 12,
   "metadata": {},
   "outputs": [
    {
     "name": "stdout",
     "output_type": "stream",
     "text": [
      "CSV 파일 내용 (등장인물):\n",
      "     이름   신분  나이  성별          직업            성격특성    거주지                  가족관계\n",
      "0    복녀   농민  28  여성         소작농     순박함,성실함,순종적  산골 마을  남편(정선달-사망), 자녀(딸-사망)\n",
      "1  김 주사   지주  50  남성  지주겸 고리대금업자   탐욕스러움,교활함,이기적  산골 마을                    없음\n",
      "2   정선달   농민  30  남성         소작농  성실함,가장으로서의 책임감  산골 마을         아내(복녀), 자녀(딸)\n",
      "3    향란  하층민  25  여성          창기      세파에 닳은,현실적  인근 마을                    없음\n",
      "4    방쇤  소작농  45  남성         소작농        약삭빠름,이기적  산골 마을                    없음\n"
     ]
    }
   ],
   "source": [
    "# CSV 파일 읽기 (등장인물 정보)\n",
    "csv_path = os.path.join(DATA_DIR, 'characters.csv')\n",
    "df = pd.read_csv(csv_path)\n",
    "print(\"CSV 파일 내용 (등장인물):\")\n",
    "print(df.head())"
   ]
  },
  {
   "cell_type": "code",
   "execution_count": 13,
   "metadata": {},
   "outputs": [
    {
     "name": "stdout",
     "output_type": "stream",
     "text": [
      "TSV 파일 내용 (주요 사건):\n",
      "   장           사건        시기       장소     관련인물             내용           결과\n",
      "0  1    남편과 딸의 죽음  이야기 시작 전    산골 마을   복녀,정선달  남편과 딸이 병으로 사망     복녀 혼자 남음\n",
      "1  2  김 주사의 착취 시작         봄      감자밭  복녀,김 주사      소작료 인상 요구   복녀의 생활고 심화\n",
      "2  3     감자 수확 실패        여름      감자밭       복녀  흉작으로 인한 수확 실패       빚이 늘어남\n",
      "3  4  김 주사의 성적 착취        가을  김 주사의 집  복녀,김 주사  빚 대신 성적 착취 시작  복녀의 정신적 황폐화\n",
      "4  5      향란과의 만남        겨울       주막    복녀,향란      향란의 꾐에 빠짐    매춘으로의 발걸음\n"
     ]
    }
   ],
   "source": [
    "# TSV 파일 읽기 (주요 사건)\n",
    "tsv_path = os.path.join(DATA_DIR, 'events.tsv')\n",
    "df_tsv = pd.read_csv(tsv_path, sep='\\t')\n",
    "print(\"TSV 파일 내용 (주요 사건):\")\n",
    "print(df_tsv.head())"
   ]
  },
  {
   "cell_type": "markdown",
   "metadata": {},
   "source": [
    "### 1.2 특정 데이터 선택하기"
   ]
  },
  {
   "cell_type": "code",
   "execution_count": 16,
   "metadata": {},
   "outputs": [
    {
     "name": "stdout",
     "output_type": "stream",
     "text": [
      "등장인물의 이름과 신분:\n",
      "     이름   신분\n",
      "0    복녀   농민\n",
      "1  김 주사   지주\n",
      "2   정선달   농민\n",
      "3    향란  하층민\n",
      "4    방쇤  소작농\n",
      "\n",
      "주요 인물 정보:\n",
      "     이름  신분  나이  성별          직업           성격특성    거주지                  가족관계\n",
      "0    복녀  농민  28  여성         소작농    순박함,성실함,순종적  산골 마을  남편(정선달-사망), 자녀(딸-사망)\n",
      "1  김 주사  지주  50  남성  지주겸 고리대금업자  탐욕스러움,교활함,이기적  산골 마을                    없음\n"
     ]
    }
   ],
   "source": [
    "# 특정 열 선택\n",
    "print(\"등장인물의 이름과 신분:\")\n",
    "print(df[['이름', '신분']])\n",
    "\n",
    "# 조건으로 선택\n",
    "print(\"\\n주요 인물 정보:\")\n",
    "print(df[df['이름'].isin(['복녀', '김 주사'])])"
   ]
  },
  {
   "cell_type": "markdown",
   "metadata": {},
   "source": [
    "## 2. 텍스트 파일 다루기"
   ]
  },
  {
   "cell_type": "code",
   "execution_count": 21,
   "metadata": {},
   "outputs": [
    {
     "name": "stdout",
     "output_type": "stream",
     "text": [
      "텍스트 파일 미리보기 (처음 200자):\n",
      "[감자]\n",
      "작가: 김동인\n",
      "발표: 1925년\n",
      "장르: 단편소설\n",
      "\n",
      "제1장.\n",
      "\n",
      "복녀는 날이 밝기 전에 감자밭으로 갔다. 이제 막 캐기 시작한 감자는 작년보다도 더 시원찮았다. 더구나 올해는 소작료를 더 물어야 했다.\n",
      "\n",
      "남편 선달이와 어린 딸아이를 병으로 잃은 뒤, 복녀는 혼자서 김 주사의 땅을 부치며 살았다. 마을에서 제일 큰 부자인 김 주사는 복녀의 가난한 처지를\n"
     ]
    }
   ],
   "source": [
    "# 텍스트 파일 읽기\n",
    "txt_path = os.path.join(DATA_DIR, 'novel.txt')\n",
    "with open(txt_path, 'r', encoding='utf-8') as file:\n",
    "    text = file.read()\n",
    "print(\"텍스트 파일 미리보기 (처음 200자):\")\n",
    "print(text[:200])"
   ]
  },
  {
   "cell_type": "markdown",
   "metadata": {},
   "source": [
    "## 3. JSON 파일 다루기"
   ]
  },
  {
   "cell_type": "code",
   "execution_count": 18,
   "metadata": {},
   "outputs": [
    {
     "name": "stdout",
     "output_type": "stream",
     "text": [
      "작품 정보:\n",
      "제목: 감자\n",
      "저자: 김동인\n",
      "출판년도: 1925\n",
      "\n",
      "등장인물 정보:\n",
      "     이름  신분  나이\n",
      "0    복녀  농민  28\n",
      "1  김 주사  지주  50\n"
     ]
    }
   ],
   "source": [
    "# JSON 파일 읽기\n",
    "json_path = os.path.join(DATA_DIR, 'gamja.json')\n",
    "with open(json_path, 'r', encoding='utf-8') as file:\n",
    "    data = json.load(file)\n",
    "\n",
    "# 기본 정보 출력\n",
    "print(\"작품 정보:\")\n",
    "print(f\"제목: {data['작품']['제목']}\")\n",
    "print(f\"저자: {data['작품']['저자']}\")\n",
    "print(f\"출판년도: {data['작품']['출판년도']}\")\n",
    "\n",
    "# JSON을 DataFrame으로 변환\n",
    "characters_data = data['작품']['주요_등장인물']\n",
    "df_characters = pd.DataFrame(characters_data)\n",
    "print(\"\\n등장인물 정보:\")\n",
    "print(df_characters[['이름', '신분', '나이']])"
   ]
  },
  {
   "cell_type": "markdown",
   "metadata": {},
   "source": [
    "## 4. XML(TEI) 파일 다루기"
   ]
  },
  {
   "cell_type": "code",
   "execution_count": 19,
   "metadata": {},
   "outputs": [
    {
     "name": "stdout",
     "output_type": "stream",
     "text": [
      "제목: 감자\n",
      "작가: 김동인\n",
      "\n",
      "등장인물 정보 (XML):\n",
      "     이름                  특성    거주지\n",
      "0    복녀  [순박함, 성실함, 도덕적 타락]  산골 마을\n",
      "1  김 주사        [탐욕스러움, 교활함]  산골 마을\n"
     ]
    }
   ],
   "source": [
    "# XML 파일 읽기\n",
    "xml_path = os.path.join(DATA_DIR, 'gamja.xml')\n",
    "tree = ET.parse(xml_path)\n",
    "root = tree.getroot()\n",
    "\n",
    "# 기본 정보 추출\n",
    "ns = {'tei': 'http://www.tei-c.org/ns/1.0'}\n",
    "title = root.find('.//tei:title', ns).text\n",
    "author = root.find('.//tei:author', ns).text\n",
    "print(f\"제목: {title}\")\n",
    "print(f\"작가: {author}\")\n",
    "\n",
    "# 등장인물 정보 추출\n",
    "characters = []\n",
    "for person in root.findall('.//tei:person', ns):\n",
    "    character = {\n",
    "        '이름': person.find('tei:persName', ns).text,\n",
    "        '특성': [trait.text for trait in person.findall('tei:trait', ns)],\n",
    "        '거주지': person.find('tei:residence', ns).text\n",
    "    }\n",
    "    characters.append(character)\n",
    "\n",
    "df_xml_characters = pd.DataFrame(characters)\n",
    "print(\"\\n등장인물 정보 (XML):\")\n",
    "print(df_xml_characters)"
   ]
  },
  {
   "cell_type": "markdown",
   "metadata": {},
   "source": [
    "## 5. 데이터 분석 및 저장"
   ]
  },
  {
   "cell_type": "code",
   "execution_count": 20,
   "metadata": {},
   "outputs": [
    {
     "name": "stdout",
     "output_type": "stream",
     "text": [
      "데이터가 'data\\processed\\감자_분석.xlsx' 파일로 저장되었습니다.\n"
     ]
    }
   ],
   "source": [
    "# 처리된 데이터를 저장할 폴더 생성\n",
    "processed_dir = os.path.join(DATA_DIR, 'processed')\n",
    "if not os.path.exists(processed_dir):\n",
    "    os.makedirs(processed_dir)\n",
    "\n",
    "# Excel 파일로 저장\n",
    "output_path = os.path.join(processed_dir, '감자_분석.xlsx')\n",
    "with pd.ExcelWriter(output_path) as writer:\n",
    "    df_characters.to_excel(writer, sheet_name='등장인물_JSON', index=False)\n",
    "    df_xml_characters.to_excel(writer, sheet_name='등장인물_XML', index=False)\n",
    "print(f\"데이터가 '{output_path}' 파일로 저장되었습니다.\")"
   ]
  }
 ],
 "metadata": {
  "kernelspec": {
   "display_name": "python311",
   "language": "python",
   "name": "python3"
  },
  "language_info": {
   "codemirror_mode": {
    "name": "ipython",
    "version": 3
   },
   "file_extension": ".py",
   "mimetype": "text/x-python",
   "name": "python",
   "nbconvert_exporter": "python",
   "pygments_lexer": "ipython3",
   "version": "3.11.10"
  }
 },
 "nbformat": 4,
 "nbformat_minor": 4
}
